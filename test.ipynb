{
 "cells": [
  {
   "cell_type": "code",
   "execution_count": 29,
   "metadata": {},
   "outputs": [
    {
     "name": "stdout",
     "output_type": "stream",
     "text": [
      "Requirement already satisfied: dasflow in d:\\users\\apm-lh\\miniconda3\\envs\\apm1\\lib\\site-packages (0.0.2)\n",
      "Collecting dasflow\n",
      "  Downloading dasflow-0.0.3-py3-none-any.whl (15 kB)\n",
      "Installing collected packages: dasflow\n",
      "  Attempting uninstall: dasflow\n",
      "    Found existing installation: dasflow 0.0.2\n",
      "    Uninstalling dasflow-0.0.2:\n",
      "      Successfully uninstalled dasflow-0.0.2\n",
      "Successfully installed dasflow-0.0.3\n",
      "Note: you may need to restart the kernel to use updated packages.\n"
     ]
    },
    {
     "name": "stderr",
     "output_type": "stream",
     "text": [
      "WARNING: Error parsing requirements for pyproj: [Errno 2] No such file or directory: 'd:\\\\users\\\\apm-lh\\\\miniconda3\\\\envs\\\\apm1\\\\lib\\\\site-packages\\\\pyproj-3.4.1.dist-info\\\\METADATA'\n"
     ]
    }
   ],
   "source": [
    "pip install dasflow --upgrade"
   ]
  },
  {
   "cell_type": "code",
   "execution_count": 26,
   "metadata": {},
   "outputs": [],
   "source": [
    "from dasflow import tmf\n",
    "import numpy as np\n",
    "# generate a random template\n",
    "tmp = np.random.rand(10, 100, 20)\n",
    "# generate a random image\n",
    "data = np.random.rand(100, 1000)\n",
    "# calculate the cross-correlation between the template and the image\n",
    "corr = tmf.tma(data,tmp, step=1,device='cpu',moves = [],is_sum=False,batch_size=-1,half=False,save_memory=False)"
   ]
  },
  {
   "cell_type": "code",
   "execution_count": 2,
   "metadata": {},
   "outputs": [
    {
     "name": "stderr",
     "output_type": "stream",
     "text": [
      "d:\\Users\\APM-LH\\miniconda3\\envs\\apm1\\lib\\site-packages\\scipy\\optimize\\_minpack_py.py:881: OptimizeWarning: Covariance of the parameters could not be estimated\n",
      "  warnings.warn('Covariance of the parameters could not be estimated',\n"
     ]
    }
   ],
   "source": [
    "from dasflow import hough\n",
    "import numpy as np\n",
    "data = np.random.randn(512, 512)\n",
    "ans = hough(data,freq=100,bandpass=[2,8],sl=[.1,1],resample=1, sigma=1.3, low_threshold=3, high_threshold=6,theta=np.linspace(np.pi/2/90*10/100,np.pi/2/90*10,99), fil='bandpass', S_L=True,beta=0,kernel=(3,3))"
   ]
  },
  {
   "cell_type": "code",
   "execution_count": 4,
   "metadata": {},
   "outputs": [
    {
     "data": {
      "text/plain": [
       "tensor([[0.5479, 0.4521],\n",
       "        [0.5480, 0.4520],\n",
       "        [0.5481, 0.4519],\n",
       "        [0.5484, 0.4516],\n",
       "        [0.5483, 0.4517],\n",
       "        [0.5481, 0.4519],\n",
       "        [0.5481, 0.4519],\n",
       "        [0.5483, 0.4517],\n",
       "        [0.5481, 0.4519],\n",
       "        [0.5481, 0.4519]], grad_fn=<SoftmaxBackward0>)"
      ]
     },
     "execution_count": 4,
     "metadata": {},
     "output_type": "execute_result"
    }
   ],
   "source": [
    "from dasflow.model import Mini\n",
    "import torch\n",
    "model = Mini()\n",
    "test_data = torch.randn(10, 1, 512, 512)\n",
    "model(test_data)"
   ]
  },
  {
   "cell_type": "code",
   "execution_count": null,
   "metadata": {},
   "outputs": [],
   "source": []
  }
 ],
 "metadata": {
  "kernelspec": {
   "display_name": "apm1",
   "language": "python",
   "name": "python3"
  },
  "language_info": {
   "codemirror_mode": {
    "name": "ipython",
    "version": 3
   },
   "file_extension": ".py",
   "mimetype": "text/x-python",
   "name": "python",
   "nbconvert_exporter": "python",
   "pygments_lexer": "ipython3",
   "version": "3.10.4"
  }
 },
 "nbformat": 4,
 "nbformat_minor": 2
}
